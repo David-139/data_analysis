{
 "cells": [
  {
   "cell_type": "markdown",
   "metadata": {},
   "source": [
    "# <font color=#ac9f00><center>DataFrame iterations</center></font>\n",
    "\n",
    "Pandas has many powerful tools to aggregate our data, do some basic arithmetics and statistics. But there are still many times we need to iterate through DataFrame and do some specific tasks with the data. And as always, there are many ways to do that, from standard for loops to vectorization, so what is the difference ?"
   ]
  },
  {
   "cell_type": "markdown",
   "metadata": {},
   "source": [
    "### <font color=#ac9f00>You want that by the morning or next month ?</font>"
   ]
  },
  {
   "cell_type": "markdown",
   "metadata": {},
   "source": [
    "The title is meant as a joke, but as well could be true. Working with dataframe with few thousand rows wont make much of a difference, but the moment we start working with Big Data, the chosen method could save us some serious time! I myself must admit, i did not pay much time to this topic up until now, but __learn the best practices / best ways of coding as you start, so you will make them your habit__. There are many great sources for this topic, so i will just simplify them and try them out in this notebook, but definitely read through some stackoverflow and documentations on this, its the core of many more operations you will use "
   ]
  },
  {
   "cell_type": "markdown",
   "metadata": {},
   "source": [
    "### <font color=#ac9f00>Looping vs Vectorization</font>"
   ]
  },
  {
   "cell_type": "markdown",
   "metadata": {},
   "source": [
    "<font color=#ac9f00>Looping</font> is commonly known and used in most standard programming languages and as such is then used here (as i did...). This consists of your standard vanilla for loops or iteration methods in Pandas __.itertuples(), .iterrows()__. These functions run through all rows separately, thus generating each individual row as object for processing. And that is a lot of extra work done without any purpose\n",
    "\n",
    "<font color=#ac9f00>Vectorization</font> on the other hand is optimized for speed. The difference is in a way the data is accessed, we can think of DataFrame as a number of series next to each other (columns) and use vectorized functions - in both numpy and pandas you will find most of your needed functions. These functions are then applied on the individual Series - array of the data we need to manipulate. So there is no need to access each individual value for each iteration step, we work in one, simple and effective array"
   ]
  },
  {
   "cell_type": "markdown",
   "metadata": {},
   "source": [
    "enough text, lets try it out. We will use built-in function __%timeit__ to measure the time and for simplicity, we will create a simple random integer generated dataframe. But in the end we will just make some assignment with basic calculation, there are more columns just to show again how to access specific ones"
   ]
  },
  {
   "cell_type": "code",
   "execution_count": 1,
   "metadata": {},
   "outputs": [],
   "source": [
    "import numpy as np\n",
    "import pandas as pd"
   ]
  },
  {
   "cell_type": "code",
   "execution_count": 2,
   "metadata": {},
   "outputs": [
    {
     "data": {
      "text/html": [
       "<div>\n",
       "<style scoped>\n",
       "    .dataframe tbody tr th:only-of-type {\n",
       "        vertical-align: middle;\n",
       "    }\n",
       "\n",
       "    .dataframe tbody tr th {\n",
       "        vertical-align: top;\n",
       "    }\n",
       "\n",
       "    .dataframe thead th {\n",
       "        text-align: right;\n",
       "    }\n",
       "</style>\n",
       "<table border=\"1\" class=\"dataframe\">\n",
       "  <thead>\n",
       "    <tr style=\"text-align: right;\">\n",
       "      <th></th>\n",
       "      <th>a</th>\n",
       "      <th>b</th>\n",
       "      <th>c</th>\n",
       "    </tr>\n",
       "  </thead>\n",
       "  <tbody>\n",
       "    <tr>\n",
       "      <th>0</th>\n",
       "      <td>23</td>\n",
       "      <td>29</td>\n",
       "      <td>76</td>\n",
       "    </tr>\n",
       "    <tr>\n",
       "      <th>1</th>\n",
       "      <td>2</td>\n",
       "      <td>43</td>\n",
       "      <td>23</td>\n",
       "    </tr>\n",
       "    <tr>\n",
       "      <th>2</th>\n",
       "      <td>76</td>\n",
       "      <td>89</td>\n",
       "      <td>32</td>\n",
       "    </tr>\n",
       "  </tbody>\n",
       "</table>\n",
       "</div>"
      ],
      "text/plain": [
       "    a   b   c\n",
       "0  23  29  76\n",
       "1   2  43  23\n",
       "2  76  89  32"
      ]
     },
     "execution_count": 2,
     "metadata": {},
     "output_type": "execute_result"
    }
   ],
   "source": [
    "df = pd.DataFrame(np.random.randint(100, size=(10000,3)))\n",
    "df.columns = [\"a\", \"b\", \"c\"]\n",
    "y = 15\n",
    "df.head(3)"
   ]
  },
  {
   "cell_type": "markdown",
   "metadata": {},
   "source": [
    "#### <font color=#ac9f00>__.iterrows()__</font>"
   ]
  },
  {
   "cell_type": "code",
   "execution_count": 3,
   "metadata": {},
   "outputs": [
    {
     "name": "stdout",
     "output_type": "stream",
     "text": [
      "1.58 s ± 29.9 ms per loop (mean ± std. dev. of 7 runs, 1 loop each)\n"
     ]
    }
   ],
   "source": [
    "%%timeit \n",
    "# double %% means it will time the whole cell in the notebook, single % will time only 1 line of code\n",
    "\n",
    "for i, row in df.iterrows():\n",
    "    df.loc[i,\"b\"] = y*2"
   ]
  },
  {
   "cell_type": "markdown",
   "metadata": {},
   "source": [
    "#### <font color=#ac9f00>__.itertuples()__</font>"
   ]
  },
  {
   "cell_type": "code",
   "execution_count": 4,
   "metadata": {},
   "outputs": [
    {
     "name": "stdout",
     "output_type": "stream",
     "text": [
      "968 ms ± 15.1 ms per loop (mean ± std. dev. of 7 runs, 1 loop each)\n"
     ]
    }
   ],
   "source": [
    "%%timeit \n",
    "\n",
    "for row in df.itertuples():\n",
    "    df.loc[row.Index,\"b\"] = y*2"
   ]
  },
  {
   "cell_type": "markdown",
   "metadata": {},
   "source": [
    "#### <font color=#ac9f00>__.apply()__</font>\n",
    "here we will use apply function with lambda expression"
   ]
  },
  {
   "cell_type": "code",
   "execution_count": 5,
   "metadata": {},
   "outputs": [
    {
     "name": "stdout",
     "output_type": "stream",
     "text": [
      "2.65 ms ± 12.5 µs per loop (mean ± std. dev. of 7 runs, 100 loops each)\n"
     ]
    }
   ],
   "source": [
    "%timeit df[\"b\"] = df[\"b\"].apply(lambda x: y*2)"
   ]
  },
  {
   "cell_type": "code",
   "execution_count": 6,
   "metadata": {},
   "outputs": [
    {
     "name": "stdout",
     "output_type": "stream",
     "text": [
      "2.69 ms ± 35.1 µs per loop (mean ± std. dev. of 7 runs, 100 loops each)\n"
     ]
    }
   ],
   "source": [
    "%timeit df[\"b\"] = df[\"b\"].map(lambda x: y*2)"
   ]
  },
  {
   "cell_type": "markdown",
   "metadata": {},
   "source": [
    "#### <font color=#ac9f00>__list comprehension__</font>"
   ]
  },
  {
   "cell_type": "code",
   "execution_count": 7,
   "metadata": {},
   "outputs": [
    {
     "name": "stdout",
     "output_type": "stream",
     "text": [
      "2.72 ms ± 56.8 µs per loop (mean ± std. dev. of 7 runs, 100 loops each)\n"
     ]
    }
   ],
   "source": [
    "%timeit df[\"b\"] = [y*2 for x in df[\"b\"]]"
   ]
  },
  {
   "cell_type": "markdown",
   "metadata": {},
   "source": [
    "#### <font color=#ac9f00>__Vectorization__</font>"
   ]
  },
  {
   "cell_type": "code",
   "execution_count": 8,
   "metadata": {},
   "outputs": [
    {
     "name": "stdout",
     "output_type": "stream",
     "text": [
      "160 µs ± 3.53 µs per loop (mean ± std. dev. of 7 runs, 10000 loops each)\n"
     ]
    }
   ],
   "source": [
    "%timeit df.loc[:,\"b\"] = y*2"
   ]
  },
  {
   "cell_type": "markdown",
   "metadata": {},
   "source": [
    "## <font color=#ac9f00>__Verdict ? By the morning please__</font>"
   ]
  },
  {
   "cell_type": "markdown",
   "metadata": {},
   "source": [
    "__.iterrows()__ &emsp; 1 580 000 µs\n",
    "\n",
    "__.itertuples()__ &emsp; 969 000 µs\n",
    "\n",
    "__.apply__ &emsp; 2 650 µs\n",
    "\n",
    "__list comprehension__ &emsp; 2 720 µs\n",
    "\n",
    "__vectorization__ &emsp;160 µs\n",
    "\n",
    "\n",
    "\n",
    "\n",
    "\n"
   ]
  },
  {
   "cell_type": "markdown",
   "metadata": {},
   "source": [
    "As you can see, the vectorized method is almost 10 000x faster than the standard iteration method. And this was a DataFrame with 10k rows with basic arithmetics, now image doing some more complex tasks on a dataset with gigabytes of data! So nevertheless the size of the data you are working with, always search for the most efficient method possible. A little extra time working it out now can save you an eternity in the future ... Yea, i was never good with trying to sound smart. Well, if you read it until here, i thank you for your time and hope it will be returned with some interest on top of that, have a great day !"
   ]
  }
 ],
 "metadata": {
  "kernelspec": {
   "display_name": "Python 3",
   "language": "python",
   "name": "python3"
  },
  "language_info": {
   "codemirror_mode": {
    "name": "ipython",
    "version": 3
   },
   "file_extension": ".py",
   "mimetype": "text/x-python",
   "name": "python",
   "nbconvert_exporter": "python",
   "pygments_lexer": "ipython3",
   "version": "3.7.6"
  }
 },
 "nbformat": 4,
 "nbformat_minor": 4
}
